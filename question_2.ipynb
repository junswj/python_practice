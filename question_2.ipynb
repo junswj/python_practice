{
 "cells": [
  {
   "cell_type": "code",
   "execution_count": 10,
   "metadata": {},
   "outputs": [],
   "source": [
    "# -*- coding: utf-8 -*-\n",
    "\"\"\"\n",
    "\" Implements solutions to the change machine problem.\n",
    "\"\n",
    "\" Assmes that smaller denominations are factors of larger denominations.\n",
    "\"\"\"\n",
    "\n",
    "\n",
    "class InsufficientFundsError(Exception):\n",
    "    \"\"\"An exception class when insufficient funds are paid.\"\"\"\n",
    "    pass\n",
    "\n",
    "\n",
    "def make_change(cost, amount_paid, denominations):\n",
    "    \"\"\"Returns a list of the number of each denomination to return as change.\n",
    "\n",
    "    Returns 'extra' change if even change can not be made.\n",
    "\n",
    "    It is assumed that an infinite amount of each denomination is available to\n",
    "    provide change (i.e. you will never \"run out of fives\").\n",
    "\n",
    "    Parameters\n",
    "    ----------\n",
    "    cost : float\n",
    "    amount_paid : float\n",
    "    denominations : tuple of float\n",
    "        Sorted by denomination type, from smallest to largest.\n",
    "\n",
    "    Returns\n",
    "    -------\n",
    "    change : list of int\n",
    "        The ith element of `change` corresponds to the number of the ith\n",
    "        element of `denominations` to return as change.\n",
    "\n",
    "    Raises\n",
    "    ------\n",
    "    InsufficientFundsError : if `amount_paid` is less than `cost`.\n",
    "\n",
    "    Warnings\n",
    "    --------\n",
    "    Logs warnings if exact change can not be provided.\n",
    "\n",
    "    Notes\n",
    "    -----\n",
    "    This implementation assumes that smaller denominations are factors of the\n",
    "    larger denominations.\n",
    "    \"\"\"\n",
    "    residual = amount_paid - cost\n",
    "    list(denominations).sort()\n",
    "   \n",
    "    change_lst=[]\n",
    "    \n",
    "    for i in denominations[::-1]:\n",
    "        number_change=0\n",
    "        number_change = residual//i\n",
    "        change_lst.append(number_change)\n",
    "        residual = residual - i * number_change\n",
    "    \n",
    "    change = change_lst[::-1]\n",
    "    return change\n",
    "        \n",
    "        \n",
    "    \n",
    "\n",
    "\n",
    "#########\n",
    "# Tests #\n",
    "#########\n",
    "\n",
    "\n",
    "def test_make_change_us():\n",
    "    \"\"\"Tests the make_change method with US denominations.\"\"\"\n",
    "    denominations = (0.01, 0.05, 0.10, 0.25, 1.00, 5.00, 10.00, 20.00)\n",
    "    assert [2, 1, 1, 0, 0, 0, 0, 0] == make_change(0.83, 1.00, denominations)"
   ]
  },
  {
   "cell_type": "code",
   "execution_count": 11,
   "metadata": {},
   "outputs": [],
   "source": [
    "test_make_change_us()"
   ]
  },
  {
   "cell_type": "code",
   "execution_count": 12,
   "metadata": {},
   "outputs": [],
   "source": [
    "def test_make_change_us():\n",
    "    \"\"\"Tests the make_change method with US denominations.\"\"\"\n",
    "    denominations = (0.01, 0.05, 0.10, 0.25, 1.00, 5.00, 10.00, 20.00)\n",
    "    assert [2, 1, 1, 0, 0, 0, 0, 0] == make_change(0.83, 1.00, denominations)\n",
    "    assert [2, 1, 1, 0, 4, 0, 0, 0] == make_change(0.83, 5.00, denominations)\n",
    "    assert [0, 0, 0, 0, 0, 0, 0, 0] == make_change(5.00, 5.00, denominations)\n",
    "    assert [3, 0, 0, 0, 0, 0, 0, 0] == make_change(0.225, 0.25, denominations)"
   ]
  },
  {
   "cell_type": "code",
   "execution_count": 13,
   "metadata": {},
   "outputs": [
    {
     "ename": "AssertionError",
     "evalue": "",
     "output_type": "error",
     "traceback": [
      "\u001b[0;31m---------------------------------------------------------------------------\u001b[0m",
      "\u001b[0;31mAssertionError\u001b[0m                            Traceback (most recent call last)",
      "\u001b[0;32m<ipython-input-13-8bc1eab156df>\u001b[0m in \u001b[0;36m<module>\u001b[0;34m\u001b[0m\n\u001b[0;32m----> 1\u001b[0;31m \u001b[0mtest_make_change_us\u001b[0m\u001b[0;34m(\u001b[0m\u001b[0;34m)\u001b[0m\u001b[0;34m\u001b[0m\u001b[0;34m\u001b[0m\u001b[0m\n\u001b[0m",
      "\u001b[0;32m<ipython-input-12-ab648ee6a200>\u001b[0m in \u001b[0;36mtest_make_change_us\u001b[0;34m()\u001b[0m\n\u001b[1;32m      3\u001b[0m     \u001b[0mdenominations\u001b[0m \u001b[0;34m=\u001b[0m \u001b[0;34m(\u001b[0m\u001b[0;36m0.01\u001b[0m\u001b[0;34m,\u001b[0m \u001b[0;36m0.05\u001b[0m\u001b[0;34m,\u001b[0m \u001b[0;36m0.10\u001b[0m\u001b[0;34m,\u001b[0m \u001b[0;36m0.25\u001b[0m\u001b[0;34m,\u001b[0m \u001b[0;36m1.00\u001b[0m\u001b[0;34m,\u001b[0m \u001b[0;36m5.00\u001b[0m\u001b[0;34m,\u001b[0m \u001b[0;36m10.00\u001b[0m\u001b[0;34m,\u001b[0m \u001b[0;36m20.00\u001b[0m\u001b[0;34m)\u001b[0m\u001b[0;34m\u001b[0m\u001b[0;34m\u001b[0m\u001b[0m\n\u001b[1;32m      4\u001b[0m     \u001b[0;32massert\u001b[0m \u001b[0;34m[\u001b[0m\u001b[0;36m2\u001b[0m\u001b[0;34m,\u001b[0m \u001b[0;36m1\u001b[0m\u001b[0;34m,\u001b[0m \u001b[0;36m1\u001b[0m\u001b[0;34m,\u001b[0m \u001b[0;36m0\u001b[0m\u001b[0;34m,\u001b[0m \u001b[0;36m0\u001b[0m\u001b[0;34m,\u001b[0m \u001b[0;36m0\u001b[0m\u001b[0;34m,\u001b[0m \u001b[0;36m0\u001b[0m\u001b[0;34m,\u001b[0m \u001b[0;36m0\u001b[0m\u001b[0;34m]\u001b[0m \u001b[0;34m==\u001b[0m \u001b[0mmake_change\u001b[0m\u001b[0;34m(\u001b[0m\u001b[0;36m0.83\u001b[0m\u001b[0;34m,\u001b[0m \u001b[0;36m1.00\u001b[0m\u001b[0;34m,\u001b[0m \u001b[0mdenominations\u001b[0m\u001b[0;34m)\u001b[0m\u001b[0;34m\u001b[0m\u001b[0;34m\u001b[0m\u001b[0m\n\u001b[0;32m----> 5\u001b[0;31m     \u001b[0;32massert\u001b[0m \u001b[0;34m[\u001b[0m\u001b[0;36m2\u001b[0m\u001b[0;34m,\u001b[0m \u001b[0;36m1\u001b[0m\u001b[0;34m,\u001b[0m \u001b[0;36m1\u001b[0m\u001b[0;34m,\u001b[0m \u001b[0;36m0\u001b[0m\u001b[0;34m,\u001b[0m \u001b[0;36m4\u001b[0m\u001b[0;34m,\u001b[0m \u001b[0;36m0\u001b[0m\u001b[0;34m,\u001b[0m \u001b[0;36m0\u001b[0m\u001b[0;34m,\u001b[0m \u001b[0;36m0\u001b[0m\u001b[0;34m]\u001b[0m \u001b[0;34m==\u001b[0m \u001b[0mmake_change\u001b[0m\u001b[0;34m(\u001b[0m\u001b[0;36m0.83\u001b[0m\u001b[0;34m,\u001b[0m \u001b[0;36m5.00\u001b[0m\u001b[0;34m,\u001b[0m \u001b[0mdenominations\u001b[0m\u001b[0;34m)\u001b[0m\u001b[0;34m\u001b[0m\u001b[0;34m\u001b[0m\u001b[0m\n\u001b[0m\u001b[1;32m      6\u001b[0m     \u001b[0;32massert\u001b[0m \u001b[0;34m[\u001b[0m\u001b[0;36m0\u001b[0m\u001b[0;34m,\u001b[0m \u001b[0;36m0\u001b[0m\u001b[0;34m,\u001b[0m \u001b[0;36m0\u001b[0m\u001b[0;34m,\u001b[0m \u001b[0;36m0\u001b[0m\u001b[0;34m,\u001b[0m \u001b[0;36m0\u001b[0m\u001b[0;34m,\u001b[0m \u001b[0;36m0\u001b[0m\u001b[0;34m,\u001b[0m \u001b[0;36m0\u001b[0m\u001b[0;34m,\u001b[0m \u001b[0;36m0\u001b[0m\u001b[0;34m]\u001b[0m \u001b[0;34m==\u001b[0m \u001b[0mmake_change\u001b[0m\u001b[0;34m(\u001b[0m\u001b[0;36m5.00\u001b[0m\u001b[0;34m,\u001b[0m \u001b[0;36m5.00\u001b[0m\u001b[0;34m,\u001b[0m \u001b[0mdenominations\u001b[0m\u001b[0;34m)\u001b[0m\u001b[0;34m\u001b[0m\u001b[0;34m\u001b[0m\u001b[0m\n\u001b[1;32m      7\u001b[0m     \u001b[0;32massert\u001b[0m \u001b[0;34m[\u001b[0m\u001b[0;36m3\u001b[0m\u001b[0;34m,\u001b[0m \u001b[0;36m0\u001b[0m\u001b[0;34m,\u001b[0m \u001b[0;36m0\u001b[0m\u001b[0;34m,\u001b[0m \u001b[0;36m0\u001b[0m\u001b[0;34m,\u001b[0m \u001b[0;36m0\u001b[0m\u001b[0;34m,\u001b[0m \u001b[0;36m0\u001b[0m\u001b[0;34m,\u001b[0m \u001b[0;36m0\u001b[0m\u001b[0;34m,\u001b[0m \u001b[0;36m0\u001b[0m\u001b[0;34m]\u001b[0m \u001b[0;34m==\u001b[0m \u001b[0mmake_change\u001b[0m\u001b[0;34m(\u001b[0m\u001b[0;36m0.225\u001b[0m\u001b[0;34m,\u001b[0m \u001b[0;36m0.25\u001b[0m\u001b[0;34m,\u001b[0m \u001b[0mdenominations\u001b[0m\u001b[0;34m)\u001b[0m\u001b[0;34m\u001b[0m\u001b[0;34m\u001b[0m\u001b[0m\n",
      "\u001b[0;31mAssertionError\u001b[0m: "
     ]
    }
   ],
   "source": [
    "test_make_change_us()"
   ]
  },
  {
   "cell_type": "code",
   "execution_count": 14,
   "metadata": {},
   "outputs": [
    {
     "data": {
      "text/plain": [
       "4.17"
      ]
     },
     "execution_count": 14,
     "metadata": {},
     "output_type": "execute_result"
    }
   ],
   "source": [
    "5-0.83"
   ]
  },
  {
   "cell_type": "code",
   "execution_count": 40,
   "metadata": {},
   "outputs": [],
   "source": [
    "cost=0.83\n",
    "amount_paid=5.00\n",
    "denominations = (0.01, 0.05, 0.10, 0.25, 1.00, 5.00, 10.00, 20.00)"
   ]
  },
  {
   "cell_type": "code",
   "execution_count": 46,
   "metadata": {},
   "outputs": [
    {
     "name": "stdout",
     "output_type": "stream",
     "text": [
      "4.17\n",
      "0.0\n",
      "4.17\n",
      "0.0\n",
      "4.17\n",
      "0.0\n",
      "4.17\n",
      "4.0\n",
      "0.16999999999999993\n",
      "0.0\n",
      "0.16999999999999993\n",
      "1.0\n",
      "0.06999999999999992\n",
      "1.0\n",
      "0.01999999999999992\n",
      "1.0\n"
     ]
    }
   ],
   "source": [
    "residual = amount_paid - cost\n",
    "#list(denominations).sort()\n",
    "\n",
    "change_lst=[]\n",
    "\n",
    "for i in denominations[::-1]:\n",
    "    number_change=0\n",
    "    number_change = residual//i\n",
    "    print(residual)\n",
    "    print(number_change)\n",
    "    change_lst.append(number_change)\n",
    "    residual = residual - i * number_change\n",
    "\n",
    "change = change_lst[::-1]"
   ]
  },
  {
   "cell_type": "code",
   "execution_count": 47,
   "metadata": {},
   "outputs": [
    {
     "name": "stdout",
     "output_type": "stream",
     "text": [
      "[1.0, 1.0, 1.0, 0.0, 4.0, 0.0, 0.0, 0.0]\n"
     ]
    }
   ],
   "source": [
    "print(change)"
   ]
  },
  {
   "cell_type": "code",
   "execution_count": null,
   "metadata": {},
   "outputs": [],
   "source": []
  },
  {
   "cell_type": "code",
   "execution_count": null,
   "metadata": {},
   "outputs": [],
   "source": []
  }
 ],
 "metadata": {
  "kernelspec": {
   "display_name": "Python 3",
   "language": "python",
   "name": "python3"
  },
  "language_info": {
   "codemirror_mode": {
    "name": "ipython",
    "version": 3
   },
   "file_extension": ".py",
   "mimetype": "text/x-python",
   "name": "python",
   "nbconvert_exporter": "python",
   "pygments_lexer": "ipython3",
   "version": "3.7.3"
  }
 },
 "nbformat": 4,
 "nbformat_minor": 2
}
