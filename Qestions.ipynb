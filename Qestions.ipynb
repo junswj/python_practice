{
 "cells": [
  {
   "cell_type": "markdown",
   "metadata": {},
   "source": [
    "# 1."
   ]
  },
  {
   "cell_type": "code",
   "execution_count": 1,
   "metadata": {},
   "outputs": [
    {
     "data": {
      "text/plain": [
       "'\\nThere are 7 charitable donors at a gala - 6 \"typical\" donors and 1 \"generous\" donor. \\nEverytime a \"typical\" charitable donor is approached for money, \\nshe/he will donate (with equal probability) either $0, $1, $2, $4, or $8. \\nEverytime the \"generous\" charitable donor is approached, she/he will always give $8. \\nYou and your friend approach the same randomly selected charitable donor and both ask for money, \\nand you both receive $8. What is the probability that the charitable donor is the \"generous\" one?\\n'"
      ]
     },
     "execution_count": 1,
     "metadata": {},
     "output_type": "execute_result"
    }
   ],
   "source": [
    "'''\n",
    "There are 7 charitable donors at a gala - 6 \"typical\" donors and 1 \"generous\" donor. \n",
    "Everytime a \"typical\" charitable donor is approached for money, \n",
    "she/he will donate (with equal probability) either $0, $1, $2, $4, or $8. \n",
    "Everytime the \"generous\" charitable donor is approached, she/he will always give $8. \n",
    "You and your friend approach the same randomly selected charitable donor and both ask for money, \n",
    "and you both receive $8. What is the probability that the charitable donor is the \"generous\" one?\n",
    "'''"
   ]
  },
  {
   "cell_type": "code",
   "execution_count": 2,
   "metadata": {},
   "outputs": [
    {
     "data": {
      "text/plain": [
       "'\\nAnswer: 81% (0.806)\\n\\nBayes’ rule question:\\nP(A|B) = P(B|A) / P(B)\\n#Ty: Typical donor, G: Generous donor\\n\\nP(Ty)=6/7\\nP(G)=1/7\\n\\nP($8 from Ty)= 1/5\\nP($8 from G)= 1\\n\\nMe and Friend both receive $8 from Ty: P(Me & F, $8 | Ty) = 1/5*1/5\\nMe and Friend both receive $8 from G: P(Me & F, $8 | G) = 1\\nMe and Friend both receive $8: \\nP(Me & F, $8) =  ((P(Me & F, $8 | G ) * P(G)) +  (P(Me & F, $8 | Ty ) * P( Ty))\\n\\nP(G | Me & F, $8) = (P(Me & F, $8 | G) * P(G)) / P(Me & F, $8)\\n= (1 * 1/7) / ((1 *1/7) +  (1/5*1/5) *6/7)\\n=0.806\\n'"
      ]
     },
     "execution_count": 2,
     "metadata": {},
     "output_type": "execute_result"
    }
   ],
   "source": [
    "'''\n",
    "Answer: 81% (0.806)\n",
    "\n",
    "Bayes’ rule question:\n",
    "P(A|B) = P(B|A) / P(B)\n",
    "#Ty: Typical donor, G: Generous donor\n",
    "\n",
    "P(Ty)=6/7\n",
    "P(G)=1/7\n",
    "\n",
    "P($8 from Ty)= 1/5\n",
    "P($8 from G)= 1\n",
    "\n",
    "Me and Friend both receive $8 from Ty: P(Me & F, $8 | Ty) = 1/5*1/5\n",
    "Me and Friend both receive $8 from G: P(Me & F, $8 | G) = 1\n",
    "Me and Friend both receive $8: \n",
    "P(Me & F, $8) =  ((P(Me & F, $8 | G ) * P(G)) +  (P(Me & F, $8 | Ty ) * P( Ty))\n",
    "\n",
    "P(G | Me & F, $8) = (P(Me & F, $8 | G) * P(G)) / P(Me & F, $8)\n",
    "= (1 * 1/7) / ((1 *1/7) +  (1/5*1/5) *6/7)\n",
    "=0.806\n",
    "'''"
   ]
  },
  {
   "cell_type": "code",
   "execution_count": 3,
   "metadata": {},
   "outputs": [
    {
     "data": {
      "text/plain": [
       "0.8064516129032259"
      ]
     },
     "execution_count": 3,
     "metadata": {},
     "output_type": "execute_result"
    }
   ],
   "source": [
    "(1 * 1/7) / ((1 *1/7) + (1/5*1/5) *6/7)"
   ]
  },
  {
   "cell_type": "markdown",
   "metadata": {},
   "source": [
    "# 2."
   ]
  },
  {
   "cell_type": "code",
   "execution_count": 4,
   "metadata": {},
   "outputs": [
    {
     "data": {
      "text/plain": [
       "\"\\nn= input number of stages\\n\\nDraw Tree:\\n\\n[['.........*'],\\n ['........***'],\\n ['.......*****'],\\n ['......*******'],\\n ['.....*********'],\\n ['....***********'],\\n ['...*************'],\\n ['..***************'],\\n ['.*****************'],\\n ['*******************']]\\n \""
      ]
     },
     "execution_count": 4,
     "metadata": {},
     "output_type": "execute_result"
    }
   ],
   "source": [
    "'''\n",
    "n= input number of stages\n",
    "\n",
    "Draw Tree:\n",
    "\n",
    "[['.........*'],\n",
    " ['........***'],\n",
    " ['.......*****'],\n",
    " ['......*******'],\n",
    " ['.....*********'],\n",
    " ['....***********'],\n",
    " ['...*************'],\n",
    " ['..***************'],\n",
    " ['.*****************'],\n",
    " ['*******************']]\n",
    " '''"
   ]
  },
  {
   "cell_type": "code",
   "execution_count": 5,
   "metadata": {},
   "outputs": [],
   "source": [
    "n=10"
   ]
  },
  {
   "cell_type": "code",
   "execution_count": 6,
   "metadata": {},
   "outputs": [],
   "source": [
    "lst=[]\n",
    "staged=[]\n",
    "for k,j in enumerate(reversed(range(1,n+1))):\n",
    "    lst.append('.'*(j-1))\n",
    "    lst.append('*'*(2*(k+1)-1))\n",
    "    lst=[''.join(lst)]\n",
    "    staged.append(lst)\n",
    "    lst=[]"
   ]
  },
  {
   "cell_type": "code",
   "execution_count": 7,
   "metadata": {},
   "outputs": [
    {
     "data": {
      "text/plain": [
       "[['.........*'],\n",
       " ['........***'],\n",
       " ['.......*****'],\n",
       " ['......*******'],\n",
       " ['.....*********'],\n",
       " ['....***********'],\n",
       " ['...*************'],\n",
       " ['..***************'],\n",
       " ['.*****************'],\n",
       " ['*******************']]"
      ]
     },
     "execution_count": 7,
     "metadata": {},
     "output_type": "execute_result"
    }
   ],
   "source": [
    "staged"
   ]
  },
  {
   "cell_type": "markdown",
   "metadata": {},
   "source": [
    "- Company decided to do the campaign. 20% discount coupon to selected members only. How do you evaluate if amazon increased the revenue?\n",
    "\n",
    "- You want to predict if people want to click this banner or not. What modeling you want to use? \n",
    "\n",
    "- Let’s say you can only use logistic regression. What problems may occur? (Think about modeling large features)\n"
   ]
  },
  {
   "cell_type": "markdown",
   "metadata": {},
   "source": [
    "\n",
    "Prescreen Questions: select all that apply by highlighting in green\n",
    "Machine Learning\n",
    "Which test(s) can be used to evaluate changes to classification model scoring distributions over time? *\n",
    "Student's t-test\n",
    "AUC\n",
    "Bhattacharyya distance\n",
    "K-S statistic\n",
    "\n",
    "Answer:\n",
    "Bhattacharyya distance\n",
    "K-S statistic\n",
    "\n",
    "Which statistic(s) could be used to describe a linear regression model? *\n",
    "MSE\n",
    "AUC\n",
    "Precision and recall\n",
    "Quantile loss\n",
    "\n",
    "Answer:\n",
    "MSE\n",
    "Quantile loss\n",
    "\n",
    "==================================="
   ]
  },
  {
   "cell_type": "code",
   "execution_count": null,
   "metadata": {},
   "outputs": [],
   "source": []
  }
 ],
 "metadata": {
  "kernelspec": {
   "display_name": "Python 3",
   "language": "python",
   "name": "python3"
  },
  "language_info": {
   "codemirror_mode": {
    "name": "ipython",
    "version": 3
   },
   "file_extension": ".py",
   "mimetype": "text/x-python",
   "name": "python",
   "nbconvert_exporter": "python",
   "pygments_lexer": "ipython3",
   "version": "3.7.3"
  }
 },
 "nbformat": 4,
 "nbformat_minor": 2
}
