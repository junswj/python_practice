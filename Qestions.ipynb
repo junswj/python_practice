{
 "cells": [
  {
   "cell_type": "markdown",
   "metadata": {},
   "source": [
    "There are 7 charitable donors at a gala - 6 \"typical\" donors and 1 \"generous\" donor. Everytime a \"typical\" charitable donor is approached for money, she/he will donate (with equal probability) either $0, $1, $2, $4, or $8. Everytime the \"generous\" charitable donor is approached, she/he will always give $8. You and your friend approach the same randomly selected charitable donor and both ask for money, and you both receive $8. What is the probability that the charitable donor is the \"generous\" one?"
   ]
  },
  {
   "cell_type": "code",
   "execution_count": 2,
   "metadata": {},
   "outputs": [
    {
     "data": {
      "text/plain": [
       "0.8064516129032259"
      ]
     },
     "execution_count": 2,
     "metadata": {},
     "output_type": "execute_result"
    }
   ],
   "source": [
    "(1 * 1/7) / ((1 *1/7) + (1/5*1/5) *6/7)"
   ]
  },
  {
   "cell_type": "code",
   "execution_count": null,
   "metadata": {},
   "outputs": [],
   "source": []
  }
 ],
 "metadata": {
  "kernelspec": {
   "display_name": "Python 3",
   "language": "python",
   "name": "python3"
  },
  "language_info": {
   "codemirror_mode": {
    "name": "ipython",
    "version": 3
   },
   "file_extension": ".py",
   "mimetype": "text/x-python",
   "name": "python",
   "nbconvert_exporter": "python",
   "pygments_lexer": "ipython3",
   "version": "3.7.3"
  }
 },
 "nbformat": 4,
 "nbformat_minor": 2
}
