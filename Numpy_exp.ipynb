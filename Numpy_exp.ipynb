{
 "cells": [
  {
   "cell_type": "code",
   "execution_count": 1,
   "metadata": {},
   "outputs": [],
   "source": [
    "import numpy as np"
   ]
  },
  {
   "cell_type": "code",
   "execution_count": 55,
   "metadata": {},
   "outputs": [
    {
     "data": {
      "text/plain": [
       "(array([[0., 0., 0.],\n",
       "        [0., 0., 0.]]), array([[1., 1., 1., 1.],\n",
       "        [1., 1., 1., 1.],\n",
       "        [1., 1., 1., 1.]]))"
      ]
     },
     "execution_count": 55,
     "metadata": {},
     "output_type": "execute_result"
    }
   ],
   "source": [
    "np.zeros((2,3)), np.ones((3,4))"
   ]
  },
  {
   "cell_type": "code",
   "execution_count": 19,
   "metadata": {},
   "outputs": [],
   "source": [
    "A=np.random.rand(8,8)"
   ]
  },
  {
   "cell_type": "code",
   "execution_count": 40,
   "metadata": {
    "scrolled": true
   },
   "outputs": [],
   "source": [
    "a=np.random.rand(10)\n",
    "b=np.random.randint(5, size=10)*100\n",
    "c=np.random.randn(10)"
   ]
  },
  {
   "cell_type": "code",
   "execution_count": 41,
   "metadata": {},
   "outputs": [
    {
     "data": {
      "text/plain": [
       "array([[ 5.40208116e-01,  7.79656369e-01,  9.36994270e-01,\n",
       "         7.97284862e-01,  2.24188056e-01,  8.68636711e-01,\n",
       "         4.06738850e-02,  2.88823121e-01,  3.96271386e-01,\n",
       "         8.96392457e-01],\n",
       "       [ 3.00000000e+02,  3.00000000e+02,  1.00000000e+02,\n",
       "         0.00000000e+00,  3.00000000e+02,  4.00000000e+02,\n",
       "         4.00000000e+02,  0.00000000e+00,  2.00000000e+02,\n",
       "         1.00000000e+02],\n",
       "       [-2.05707810e+00,  5.14216720e-01,  7.27313228e-02,\n",
       "         7.78074231e-01, -1.42820859e-01, -8.95225909e-01,\n",
       "         3.26033637e-01,  1.52533139e+00,  5.15508431e-01,\n",
       "        -4.74755873e-01]])"
      ]
     },
     "execution_count": 41,
     "metadata": {},
     "output_type": "execute_result"
    }
   ],
   "source": [
    "np.vstack((a,b,c))"
   ]
  },
  {
   "cell_type": "code",
   "execution_count": 42,
   "metadata": {},
   "outputs": [],
   "source": [
    "X=np.column_stack((a,b,c))"
   ]
  },
  {
   "cell_type": "code",
   "execution_count": 43,
   "metadata": {},
   "outputs": [
    {
     "data": {
      "text/plain": [
       "array([[ 5.40208116e-01,  3.00000000e+02, -2.05707810e+00],\n",
       "       [ 7.79656369e-01,  3.00000000e+02,  5.14216720e-01],\n",
       "       [ 9.36994270e-01,  1.00000000e+02,  7.27313228e-02],\n",
       "       [ 7.97284862e-01,  0.00000000e+00,  7.78074231e-01],\n",
       "       [ 2.24188056e-01,  3.00000000e+02, -1.42820859e-01],\n",
       "       [ 8.68636711e-01,  4.00000000e+02, -8.95225909e-01],\n",
       "       [ 4.06738850e-02,  4.00000000e+02,  3.26033637e-01],\n",
       "       [ 2.88823121e-01,  0.00000000e+00,  1.52533139e+00],\n",
       "       [ 3.96271386e-01,  2.00000000e+02,  5.15508431e-01],\n",
       "       [ 8.96392457e-01,  1.00000000e+02, -4.74755873e-01]])"
      ]
     },
     "execution_count": 43,
     "metadata": {},
     "output_type": "execute_result"
    }
   ],
   "source": [
    "X"
   ]
  },
  {
   "cell_type": "code",
   "execution_count": 50,
   "metadata": {},
   "outputs": [
    {
     "data": {
      "text/plain": [
       "array([[300.        ,   0.51421672]])"
      ]
     },
     "execution_count": 50,
     "metadata": {},
     "output_type": "execute_result"
    }
   ],
   "source": [
    "X[1:2,1:]"
   ]
  },
  {
   "cell_type": "code",
   "execution_count": 54,
   "metadata": {},
   "outputs": [
    {
     "data": {
      "text/plain": [
       "array([[ 3.00000000e+02, -2.05707810e+00],\n",
       "       [ 3.00000000e+02,  5.14216720e-01],\n",
       "       [ 1.00000000e+02,  7.27313228e-02],\n",
       "       [ 0.00000000e+00,  7.78074231e-01],\n",
       "       [ 3.00000000e+02, -1.42820859e-01]])"
      ]
     },
     "execution_count": 54,
     "metadata": {},
     "output_type": "execute_result"
    }
   ],
   "source": [
    "X[:5, 1:]"
   ]
  },
  {
   "cell_type": "code",
   "execution_count": null,
   "metadata": {},
   "outputs": [],
   "source": []
  }
 ],
 "metadata": {
  "kernelspec": {
   "display_name": "Python 3",
   "language": "python",
   "name": "python3"
  },
  "language_info": {
   "codemirror_mode": {
    "name": "ipython",
    "version": 3
   },
   "file_extension": ".py",
   "mimetype": "text/x-python",
   "name": "python",
   "nbconvert_exporter": "python",
   "pygments_lexer": "ipython3",
   "version": "3.7.3"
  }
 },
 "nbformat": 4,
 "nbformat_minor": 2
}
